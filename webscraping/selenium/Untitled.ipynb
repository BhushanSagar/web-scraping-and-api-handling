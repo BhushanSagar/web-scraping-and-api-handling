{
 "cells": [
  {
   "cell_type": "code",
   "execution_count": 32,
   "id": "09fc4122-2ed8-484f-a993-27795ec002bb",
   "metadata": {},
   "outputs": [],
   "source": [
    "from selenium import webdriver\n",
    "from selenium.webdriver.edge.service import Service\n",
    "from selenium.webdriver.common.by import By\n",
    "from selenium.webdriver.common.keys import Keys\n",
    "# Define the path to msedgedriver.exe\n",
    "path = \"C:/Users/lenovo/Desktop/msedgedriver.exe\"\n",
    "\n",
    "# Create a Service object\n",
    "s = Service(path)\n",
    "\n",
    "# Initialize the Edge WebDriver\n",
    "driver = webdriver.Edge(service=s)\n"
   ]
  },
  {
   "cell_type": "code",
   "execution_count": null,
   "id": "7ebfacae-eb4c-4e32-8af9-161f8a3d4054",
   "metadata": {},
   "outputs": [],
   "source": []
  },
  {
   "cell_type": "code",
   "execution_count": 20,
   "id": "0e0fd8f8-a1b1-47b1-af0d-8af982de321a",
   "metadata": {},
   "outputs": [],
   "source": [
    "name = driver.find_element(By.XPATH, \"\"\"/html/body/div[1]/div[2]/main/div[3]/ul/li[1]/section/article/div[2]/div/div[1]/p/span\"\"\")\n"
   ]
  },
  {
   "cell_type": "code",
   "execution_count": 21,
   "id": "e292d985-216d-4a2d-9f04-97fd08994d85",
   "metadata": {},
   "outputs": [
    {
     "data": {
      "text/plain": [
       "'Rs.699.00'"
      ]
     },
     "execution_count": 21,
     "metadata": {},
     "output_type": "execute_result"
    }
   ],
   "source": [
    "name.in"
   ]
  },
  {
   "cell_type": "code",
   "execution_count": null,
   "id": "23c6270f-ee30-4e80-ae6f-b3bba12a3dc8",
   "metadata": {},
   "outputs": [],
   "source": []
  },
  {
   "cell_type": "code",
   "execution_count": 23,
   "id": "17a57843-69dd-422e-b2df-e06efec10d6b",
   "metadata": {},
   "outputs": [],
   "source": [
    "click = driver.find_element(By.XPATH, \"\"\"//*[@id=\"products-listing-section\"]/ul/li[1]/section/article/div[2]/div/div[1]/a/h2\"\"\").click()"
   ]
  },
  {
   "cell_type": "code",
   "execution_count": null,
   "id": "fc20d26f-10f4-43b6-88c1-c0403019076c",
   "metadata": {},
   "outputs": [],
   "source": []
  },
  {
   "cell_type": "code",
   "execution_count": null,
   "id": "b245b88b-8d02-4df7-9f6a-f4249f22d996",
   "metadata": {},
   "outputs": [],
   "source": []
  },
  {
   "cell_type": "code",
   "execution_count": 44,
   "id": "af9544e2-6366-4afd-8182-ef3bb0fa0ba4",
   "metadata": {},
   "outputs": [],
   "source": [
    "from selenium import webdriver\n",
    "from selenium.webdriver.edge.service import Service\n",
    "from selenium.webdriver.common.by import By\n",
    "from selenium.webdriver.common.keys import Keys\n",
    "# Define the path to msedgedriver.exe\n",
    "path = \"C:/Users/lenovo/Desktop/msedgedriver.exe\"\n",
    "\n",
    "# Create a Service object\n",
    "s = Service(path)\n",
    "\n",
    "# Initialize the Edge WebDriver\n",
    "driver = webdriver.Edge(service=s)\n"
   ]
  },
  {
   "cell_type": "code",
   "execution_count": 45,
   "id": "aafbbbf6-1c9e-480c-b21a-1cdcc53b5437",
   "metadata": {},
   "outputs": [
    {
     "ename": "InvalidArgumentException",
     "evalue": "Message: invalid argument\n  (Session info: MicrosoftEdge=134.0.3124.83)\nStacktrace:\n\tGetHandleVerifier [0x00007FF7DD0CAA95+20677]\n\tsimdutf::get_active_implementation [0x00007FF7DD027240+492672]\n\t(No symbol) [0x00007FF7DCE1BD30]\n\t(No symbol) [0x00007FF7DCE0C1C2]\n\t(No symbol) [0x00007FF7DCE0AD91]\n\t(No symbol) [0x00007FF7DCE0B15C]\n\t(No symbol) [0x00007FF7DCE1F2EA]\n\t(No symbol) [0x00007FF7DCEA645E]\n\t(No symbol) [0x00007FF7DCE8845A]\n\t(No symbol) [0x00007FF7DCE5D6ED]\n\t(No symbol) [0x00007FF7DCEA5D61]\n\t(No symbol) [0x00007FF7DCE881C3]\n\t(No symbol) [0x00007FF7DCE5CC36]\n\t(No symbol) [0x00007FF7DCE5C0C4]\n\t(No symbol) [0x00007FF7DCE5CA63]\n\t(No symbol) [0x00007FF7DCF45B7D]\n\t(No symbol) [0x00007FF7DCF51FE2]\n\t(No symbol) [0x00007FF7DCF4A9A3]\n\tMicrosoft::Applications::Events::EventProperty::to_string [0x00007FF7DD1A47FA+262026]\n\tsimdutf::get_active_implementation [0x00007FF7DD034971+547761]\n\tsimdutf::get_active_implementation [0x00007FF7DD02DC24+519780]\n\tsimdutf::get_active_implementation [0x00007FF7DD02DD69+520105]\n\tsimdutf::get_active_implementation [0x00007FF7DD01F916+461654]\n\tBaseThreadInitThunk [0x00007FFB0435E8D7+23]\n\tRtlUserThreadStart [0x00007FFB055FBF6C+44]\n",
     "output_type": "error",
     "traceback": [
      "\u001b[1;31m---------------------------------------------------------------------------\u001b[0m",
      "\u001b[1;31mInvalidArgumentException\u001b[0m                  Traceback (most recent call last)",
      "Cell \u001b[1;32mIn[45], line 1\u001b[0m\n\u001b[1;32m----> 1\u001b[0m search\u001b[38;5;241m=\u001b[39m\u001b[43mdriver\u001b[49m\u001b[38;5;241;43m.\u001b[39;49m\u001b[43mget\u001b[49m\u001b[43m(\u001b[49m\u001b[38;5;124;43m\"\"\"\u001b[39;49m\u001b[38;5;124;43m//*[@id=\u001b[39;49m\u001b[38;5;124;43m\"\u001b[39;49m\u001b[38;5;124;43mb_results\u001b[39;49m\u001b[38;5;124;43m\"\u001b[39;49m\u001b[38;5;124;43m]/li[1]/h2/a\u001b[39;49m\u001b[38;5;124;43m\"\"\"\u001b[39;49m\u001b[43m)\u001b[49m\u001b[38;5;241m.\u001b[39mclick()\n",
      "File \u001b[1;32m~\\AppData\\Local\\Programs\\Python\\Python312\\Lib\\site-packages\\selenium\\webdriver\\remote\\webdriver.py:454\u001b[0m, in \u001b[0;36mWebDriver.get\u001b[1;34m(self, url)\u001b[0m\n\u001b[0;32m    436\u001b[0m \u001b[38;5;28;01mdef\u001b[39;00m \u001b[38;5;21mget\u001b[39m(\u001b[38;5;28mself\u001b[39m, url: \u001b[38;5;28mstr\u001b[39m) \u001b[38;5;241m-\u001b[39m\u001b[38;5;241m>\u001b[39m \u001b[38;5;28;01mNone\u001b[39;00m:\n\u001b[0;32m    437\u001b[0m \u001b[38;5;250m    \u001b[39m\u001b[38;5;124;03m\"\"\"Navigate the browser to the specified URL in the current window or\u001b[39;00m\n\u001b[0;32m    438\u001b[0m \u001b[38;5;124;03m    tab.\u001b[39;00m\n\u001b[0;32m    439\u001b[0m \n\u001b[1;32m   (...)\u001b[0m\n\u001b[0;32m    452\u001b[0m \u001b[38;5;124;03m    >>> driver.get(\"https://example.com\")\u001b[39;00m\n\u001b[0;32m    453\u001b[0m \u001b[38;5;124;03m    \"\"\"\u001b[39;00m\n\u001b[1;32m--> 454\u001b[0m     \u001b[38;5;28;43mself\u001b[39;49m\u001b[38;5;241;43m.\u001b[39;49m\u001b[43mexecute\u001b[49m\u001b[43m(\u001b[49m\u001b[43mCommand\u001b[49m\u001b[38;5;241;43m.\u001b[39;49m\u001b[43mGET\u001b[49m\u001b[43m,\u001b[49m\u001b[43m \u001b[49m\u001b[43m{\u001b[49m\u001b[38;5;124;43m\"\u001b[39;49m\u001b[38;5;124;43murl\u001b[39;49m\u001b[38;5;124;43m\"\u001b[39;49m\u001b[43m:\u001b[49m\u001b[43m \u001b[49m\u001b[43murl\u001b[49m\u001b[43m}\u001b[49m\u001b[43m)\u001b[49m\n",
      "File \u001b[1;32m~\\AppData\\Local\\Programs\\Python\\Python312\\Lib\\site-packages\\selenium\\webdriver\\remote\\webdriver.py:429\u001b[0m, in \u001b[0;36mWebDriver.execute\u001b[1;34m(self, driver_command, params)\u001b[0m\n\u001b[0;32m    427\u001b[0m response \u001b[38;5;241m=\u001b[39m \u001b[38;5;28mself\u001b[39m\u001b[38;5;241m.\u001b[39mcommand_executor\u001b[38;5;241m.\u001b[39mexecute(driver_command, params)\n\u001b[0;32m    428\u001b[0m \u001b[38;5;28;01mif\u001b[39;00m response:\n\u001b[1;32m--> 429\u001b[0m     \u001b[38;5;28;43mself\u001b[39;49m\u001b[38;5;241;43m.\u001b[39;49m\u001b[43merror_handler\u001b[49m\u001b[38;5;241;43m.\u001b[39;49m\u001b[43mcheck_response\u001b[49m\u001b[43m(\u001b[49m\u001b[43mresponse\u001b[49m\u001b[43m)\u001b[49m\n\u001b[0;32m    430\u001b[0m     response[\u001b[38;5;124m\"\u001b[39m\u001b[38;5;124mvalue\u001b[39m\u001b[38;5;124m\"\u001b[39m] \u001b[38;5;241m=\u001b[39m \u001b[38;5;28mself\u001b[39m\u001b[38;5;241m.\u001b[39m_unwrap_value(response\u001b[38;5;241m.\u001b[39mget(\u001b[38;5;124m\"\u001b[39m\u001b[38;5;124mvalue\u001b[39m\u001b[38;5;124m\"\u001b[39m, \u001b[38;5;28;01mNone\u001b[39;00m))\n\u001b[0;32m    431\u001b[0m     \u001b[38;5;28;01mreturn\u001b[39;00m response\n",
      "File \u001b[1;32m~\\AppData\\Local\\Programs\\Python\\Python312\\Lib\\site-packages\\selenium\\webdriver\\remote\\errorhandler.py:232\u001b[0m, in \u001b[0;36mErrorHandler.check_response\u001b[1;34m(self, response)\u001b[0m\n\u001b[0;32m    230\u001b[0m         alert_text \u001b[38;5;241m=\u001b[39m value[\u001b[38;5;124m\"\u001b[39m\u001b[38;5;124malert\u001b[39m\u001b[38;5;124m\"\u001b[39m]\u001b[38;5;241m.\u001b[39mget(\u001b[38;5;124m\"\u001b[39m\u001b[38;5;124mtext\u001b[39m\u001b[38;5;124m\"\u001b[39m)\n\u001b[0;32m    231\u001b[0m     \u001b[38;5;28;01mraise\u001b[39;00m exception_class(message, screen, stacktrace, alert_text)  \u001b[38;5;66;03m# type: ignore[call-arg]  # mypy is not smart enough here\u001b[39;00m\n\u001b[1;32m--> 232\u001b[0m \u001b[38;5;28;01mraise\u001b[39;00m exception_class(message, screen, stacktrace)\n",
      "\u001b[1;31mInvalidArgumentException\u001b[0m: Message: invalid argument\n  (Session info: MicrosoftEdge=134.0.3124.83)\nStacktrace:\n\tGetHandleVerifier [0x00007FF7DD0CAA95+20677]\n\tsimdutf::get_active_implementation [0x00007FF7DD027240+492672]\n\t(No symbol) [0x00007FF7DCE1BD30]\n\t(No symbol) [0x00007FF7DCE0C1C2]\n\t(No symbol) [0x00007FF7DCE0AD91]\n\t(No symbol) [0x00007FF7DCE0B15C]\n\t(No symbol) [0x00007FF7DCE1F2EA]\n\t(No symbol) [0x00007FF7DCEA645E]\n\t(No symbol) [0x00007FF7DCE8845A]\n\t(No symbol) [0x00007FF7DCE5D6ED]\n\t(No symbol) [0x00007FF7DCEA5D61]\n\t(No symbol) [0x00007FF7DCE881C3]\n\t(No symbol) [0x00007FF7DCE5CC36]\n\t(No symbol) [0x00007FF7DCE5C0C4]\n\t(No symbol) [0x00007FF7DCE5CA63]\n\t(No symbol) [0x00007FF7DCF45B7D]\n\t(No symbol) [0x00007FF7DCF51FE2]\n\t(No symbol) [0x00007FF7DCF4A9A3]\n\tMicrosoft::Applications::Events::EventProperty::to_string [0x00007FF7DD1A47FA+262026]\n\tsimdutf::get_active_implementation [0x00007FF7DD034971+547761]\n\tsimdutf::get_active_implementation [0x00007FF7DD02DC24+519780]\n\tsimdutf::get_active_implementation [0x00007FF7DD02DD69+520105]\n\tsimdutf::get_active_implementation [0x00007FF7DD01F916+461654]\n\tBaseThreadInitThunk [0x00007FFB0435E8D7+23]\n\tRtlUserThreadStart [0x00007FFB055FBF6C+44]\n"
     ]
    }
   ],
   "source": [
    "search=driver.get(\"\"\"//*[@id=\"b_results\"]/li[1]/h2/a\"\"\").click()"
   ]
  },
  {
   "cell_type": "code",
   "execution_count": null,
   "id": "26a2798b-c9c9-4cf4-b66a-71d1939c3ff8",
   "metadata": {},
   "outputs": [],
   "source": []
  },
  {
   "cell_type": "code",
   "execution_count": null,
   "id": "f4f25ba0-661f-41b3-94c7-7148c8391df8",
   "metadata": {},
   "outputs": [],
   "source": []
  }
 ],
 "metadata": {
  "kernelspec": {
   "display_name": "Python 3 (ipykernel)",
   "language": "python",
   "name": "python3"
  },
  "language_info": {
   "codemirror_mode": {
    "name": "ipython",
    "version": 3
   },
   "file_extension": ".py",
   "mimetype": "text/x-python",
   "name": "python",
   "nbconvert_exporter": "python",
   "pygments_lexer": "ipython3",
   "version": "3.12.1"
  }
 },
 "nbformat": 4,
 "nbformat_minor": 5
}
