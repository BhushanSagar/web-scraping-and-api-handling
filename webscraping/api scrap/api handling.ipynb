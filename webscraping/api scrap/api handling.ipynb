{
 "cells": [
  {
   "cell_type": "code",
   "execution_count": 1,
   "id": "28937a15-7f42-4e59-891f-2ffef3cef99a",
   "metadata": {},
   "outputs": [],
   "source": [
    "import requests "
   ]
  },
  {
   "cell_type": "code",
   "execution_count": 33,
   "id": "20476825-844a-48cf-b047-a8286e28728f",
   "metadata": {},
   "outputs": [],
   "source": [
    "data_convert\n",
    "\n",
    "def get_random_data():\n",
    "    url = \"https://api.freeapi.app/api/v1/public/randomusers/user/random\"\n",
    "    data=requests.get(url)\n",
    "    data_convert=data.json()\n",
    "    if \"success\" in data_convert and \"data\" in data_convert:\n",
    "        username = data_convert[\"data\"][\"login\"][\"username\"]\n",
    "        country = data_convert[\"data\"][\"location\"][\"country\"]\n",
    "        return 'username :',username,'country :',country\n",
    "    else:\n",
    "        raise exception('fail to fetch data')"
   ]
  },
  {
   "cell_type": "code",
   "execution_count": 34,
   "id": "9b46c259-b6eb-4682-85c2-145e06bc20ad",
   "metadata": {},
   "outputs": [
    {
     "data": {
      "text/plain": [
       "('username :', 'silvergoose625', 'country :', 'France')"
      ]
     },
     "execution_count": 34,
     "metadata": {},
     "output_type": "execute_result"
    }
   ],
   "source": [
    "get_random_data()"
   ]
  },
  {
   "cell_type": "code",
   "execution_count": null,
   "id": "e2e495ea-9938-45db-a67f-890008b703d0",
   "metadata": {},
   "outputs": [],
   "source": []
  }
 ],
 "metadata": {
  "kernelspec": {
   "display_name": "Python 3 (ipykernel)",
   "language": "python",
   "name": "python3"
  },
  "language_info": {
   "codemirror_mode": {
    "name": "ipython",
    "version": 3
   },
   "file_extension": ".py",
   "mimetype": "text/x-python",
   "name": "python",
   "nbconvert_exporter": "python",
   "pygments_lexer": "ipython3",
   "version": "3.12.1"
  }
 },
 "nbformat": 4,
 "nbformat_minor": 5
}
