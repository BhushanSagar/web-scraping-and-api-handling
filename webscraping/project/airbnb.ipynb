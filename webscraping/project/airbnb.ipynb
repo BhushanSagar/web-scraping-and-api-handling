{
 "cells": [
  {
   "cell_type": "code",
   "execution_count": 1,
   "id": "f1c86fcf-96eb-4665-83a6-8fe8274da103",
   "metadata": {},
   "outputs": [],
   "source": [
    "import requests \n",
    "from bs4 import BeautifulSoup as bs\n",
    "import pandas as pd\n",
    "import re"
   ]
  },
  {
   "cell_type": "code",
   "execution_count": 2,
   "id": "f96fae08-0345-4b7e-b375-afc42ae221b6",
   "metadata": {},
   "outputs": [],
   "source": [
    "url='https://www.airbnb.co.in/s/New-Delhi--India/homes?place_id=ChIJLbZ-NFv9DDkRzk0gTkm3wlI&refinement_paths%5B%5D=%2Fhomes'"
   ]
  },
  {
   "cell_type": "code",
   "execution_count": 7,
   "id": "6916f5a3-a483-4058-aa60-93ee2ff241eb",
   "metadata": {},
   "outputs": [],
   "source": [
    "r= requests.get(url)"
   ]
  },
  {
   "cell_type": "code",
   "execution_count": 8,
   "id": "911e565a-ec0a-4766-8b20-b5e402e49407",
   "metadata": {},
   "outputs": [],
   "source": [
    "soup = bs(r.text,'lxml')\n"
   ]
  },
  {
   "cell_type": "code",
   "execution_count": 14,
   "id": "e5babbf1-91b4-440a-bcbe-3958f8b46f38",
   "metadata": {},
   "outputs": [
    {
     "name": "stdout",
     "output_type": "stream",
     "text": [
      "265\n",
      "288\n"
     ]
    }
   ],
   "source": [
    "print(len(priced))\n",
    "print(len(name))"
   ]
  },
  {
   "cell_type": "code",
   "execution_count": 9,
   "id": "d0b57252-eb5e-4267-9380-99f20e71e39e",
   "metadata": {},
   "outputs": [],
   "source": [
    "priced=[]\n",
    "name=[]"
   ]
  },
  {
   "cell_type": "code",
   "execution_count": 11,
   "id": "cce304a5-a7bc-4928-9dd9-f52025f5f6b2",
   "metadata": {},
   "outputs": [
    {
     "name": "stdout",
     "output_type": "stream",
     "text": [
      "Pages processed: 1\n",
      "['Home in New Delhi', 'Room in New Delhi', 'Flat in New Delhi', 'Flat in New Delhi', 'Villa in New Delhi', 'Place to stay in New Delhi', 'Flat in New Delhi', 'Flat in New Delhi', 'Room in New Delhi', 'Flat in New Delhi', 'Place to stay in New Delhi', 'Flat in New Delhi', 'Room in New Delhi', 'Apartment in New Delhi', 'Apartment in New Delhi', 'Room in Delhi', 'Flat in New Delhi', 'Room in New Delhi', 'Apartment in New Delhi', 'Room in New Delhi', 'Room in New Delhi', 'Apartment in New Delhi', 'Apartment in New Delhi', 'Room in New Delhi', 'Flat in New Delhi', 'Flat in New Delhi', 'Room in New Delhi', 'Guest suite in New Delhi', 'Apartment in Delhi', 'Flat in New Delhi', 'Room in New Delhi', 'Flat in New Delhi', 'Flat in New Delhi', 'Apartment in New Delhi', 'Room in Delhi', 'Hotel room in New Delhi', 'Place to stay in New Delhi', 'Room in Delhi', 'Room in New Delhi', 'Room in New Delhi', 'Place to stay in New Delhi', 'Apartment in New Delhi', 'Apartment in New Delhi', 'Room in New Delhi', 'Flat in New Delhi', 'Room in Delhi', 'Apartment in New Delhi', 'Flat in Delhi', 'Room in New Delhi', 'Flat in New Delhi', 'Flat in New Delhi', 'Flat in New Delhi', 'Flat in New Delhi', 'Place to stay in New Delhi', 'Flat in New Delhi', 'Flat in Delhi', 'Flat in New Delhi', 'Flat in New Delhi', 'Flat in New Delhi', 'Flat in New Delhi', 'Room in New Delhi', 'Guest suite in New Delhi, Delhi, IN', 'Hotel in Delhi', 'Room in New Delhi', 'Flat in New Delhi', 'Flat in Noida', 'Guest suite in New Delhi', 'Flat in New Delhi', 'Apartment in Delhi', 'Apartment in New Delhi', 'Place to stay in New Delhi', 'Flat in New Delhi', 'Room in New Delhi', 'Flat in New Delhi', 'Apartment in New Delhi', 'Apartment in New Delhi', 'Flat in New Delhi', 'Room in New Delhi', 'Flat in New Delhi', 'Room in New Delhi', 'Room in Gurugram', 'Apartment in New Delhi', 'Flat in New Delhi', 'Apartment in New Delhi', 'Flat in Noida', 'Room in Delhi', 'Room in New Delhi', 'Bungalow in New Delhi', 'Flat in New Delhi', 'Room in New Delhi', 'Apartment in Gurugram', 'Room in New Delhi', 'Flat in New Delhi', 'Flat in New Delhi', 'Flat in Gurugram', 'Room in New Delhi', 'Room in New Delhi', 'Flat in New Delhi', 'Flat in New Delhi', 'Flat in New Delhi', 'Flat in New Delhi', 'Apartment in New Delhi', 'Flat in New Delhi', 'Flat in New Delhi', 'Place to stay in New Delhi', 'Flat in New Delhi', 'Flat in New Delhi', 'Place to stay in New Delhi', 'Place to stay in New Delhi', 'Apartment in New Delhi', 'Flat in New Delhi', 'Flat in New Delhi', 'Flat in New Delhi', 'Room in New Delhi', 'Apartment in New Delhi', 'Flat in Gurugram', 'Place to stay in New Delhi', 'Flat in New Delhi', 'Room in New Delhi', 'Flat in New Delhi', 'Flat in Noida', 'Apartment in New Delhi', 'Home in New Delhi', 'Flat in New Delhi', 'Apartment in New Delhi', 'Flat in Noida', 'Flat in Delhi', 'Flat in New Delhi', 'Flat in Gurugram', 'Flat in New Delhi', 'Apartment in New Delhi', 'Home in New Delhi', 'Flat in New Delhi', 'Flat in Noida', 'Room in New Delhi', 'Flat in New Delhi', 'Hotel room in New Delhi', 'Place to stay in New Delhi', 'Room in New Delhi', 'Hotel in New Delhi', 'Room in New Delhi', 'Room in New Delhi', 'Flat in New Delhi', 'Apartment in New Delhi', 'Farm stay in New Delhi', 'Room in New Delhi', 'Apartment in New Delhi', 'Place to stay in New Delhi', 'Apartment in Delhi', 'Apartment in New Delhi', 'Room in New Delhi', 'Flat in New Delhi', 'Flat in New Delhi', 'Room in New Delhi', 'Flat in New Delhi', 'Apartment in Noida', 'Flat in New Delhi', 'Room in Delhi', 'Flat in New Delhi', 'Room in New Delhi', 'Bed and breakfast in New Delhi', 'Home in New Delhi', 'Guest suite in Delhi', 'Apartment in New Delhi', 'Room in New Delhi', 'Flat in New Delhi', 'Guest house in New Delhi', 'Farm stay in New Delhi', 'Flat in New Delhi', 'Room in New Delhi', 'Apartment in New Delhi', 'Room in New Delhi', 'Apartment in New Delhi', 'Home in Delhi', 'Room in New Delhi', 'Place to stay in New Delhi', 'Room in New Delhi', 'Room in Delhi', 'Apartment in New Delhi', 'Apartment in New Delhi', 'Home in New Delhi', 'Apartment in New Delhi', 'Apartment in New Delhi', 'Flat in Gurugram', 'Flat in New Delhi', 'Guest house in New Delhi', 'Flat in New Delhi', 'Home in Gurugram', 'Room in Delhi', 'Loft in New Delhi', 'Flat in Gurugram', 'Room in New Delhi', 'Flat in New Delhi', 'Room in New Delhi', 'Apartment in New Delhi', 'Flat in New Delhi', 'Apartment in New Delhi', 'Shipping container in New Delhi', 'Flat in New Delhi', 'Apartment in New Delhi', 'Place to stay in New Delhi', 'Flat in New Delhi', 'Room in Block I', 'Flat in New Delhi', 'Place to stay in New Delhi', 'Flat in New Delhi', 'Home in New Delhi', 'Flat in New Delhi', 'Flat in New Delhi', 'Room in New Delhi', 'Apartment in Noida', 'Flat in New Delhi', 'Flat in Gurugram', 'Apartment in Gurugram', 'Apartment in Gurugram', 'Room in New Delhi', 'Flat in New Delhi', 'Flat in Gurugram', 'Apartment in Gurugram', 'Apartment in Gurugram', 'Room in New Delhi', 'Flat in New Delhi', 'Guest house in New Delhi', 'Place to stay in New Delhi', 'Apartment in New Delhi', 'Room in Delhi', 'Place to stay in New Delhi', 'Home in New Delhi', 'Flat in Gurugram', 'Room in New Delhi', 'Flat in Gurugram', 'Flat in New Delhi', 'Room in New Delhi', 'Apartment in Delhi', 'Place to stay in New Delhi', 'Home in New Delhi', 'Flat in Gurugram', 'Room in New Delhi', 'Flat in Gurugram', 'Room in New Delhi', 'Apartment in Delhi', 'Flat in Delhi', 'Apartment in New Delhi', 'Home in New Delhi', 'Place to stay in Delhi', 'Flat in Delhi', 'Room in New Delhi', 'Flat in Delhi', 'Home in New Delhi', 'Flat in New Delhi', 'Apartment in New Delhi', 'Apartment in Delhi', 'Apartment in New Delhi', 'Apartment in New Delhi', 'Apartment in New Delhi', 'Place to stay in New Delhi', 'Flat in New Delhi', 'Flat in New Delhi', 'Flat in New Delhi', 'Flat in Noida', 'Room in New Delhi', 'Flat in Delhi', 'Flat in New Delhi', 'Flat in New Delhi', 'Apartment in New Delhi', 'Flat in Gurugram', 'Home in New Delhi', 'Flat in New Delhi', 'Flat in Gurugram', 'Flat in New Delhi', 'Apartment in New Delhi', 'Apartment in New Delhi', 'Apartment in New Delhi', 'Place to stay in New Delhi', 'Flat in New Delhi', 'Flat in New Delhi', 'Flat in New Delhi', 'Flat in Noida', 'Room in New Delhi', 'Flat in Delhi', 'Flat in New Delhi', 'Flat in New Delhi', 'Apartment in New Delhi', 'Flat in Gurugram', 'Home in New Delhi', 'Flat in New Delhi', 'Flat in Gurugram', 'Flat in New Delhi']\n",
      "['₹6,731 per night', '₹3,880 per night', '₹2,624 per night', '₹2,574 per night', '₹9,015 per night', '₹8,047 per night', '₹6,676 per night', '₹5,649 per night', '₹2,511 per night', '₹4,310 per night', '₹2,751 per night', '₹2,358 per night', '₹3,115 per night', '₹4,945 per night', '₹1,461 per night', '₹4,695 per night', '₹2,977 per night', '₹3,195 per night', '₹2,396 per night', '₹3,024 per night', '₹2,702 per night', '₹3,994 per night', '₹3,424 per night', '₹4,228 per night', '₹2,998 per night', '₹4,021 per night', '₹3,766 per night', '₹3,660 per night', '₹2,500 per night', '₹3,059 per night', '₹2,745 per night', '₹1,968 per night', '₹2,633 per night', '₹1,678 per night', '₹1,776 per night', '₹2,405 per night', '₹1,610 per night', '₹2,992 per night', '₹1,037 per night', '₹3,394 per night', '₹3,769 per night', '₹3,053 per night', '₹1,711 per night', '₹2,473 per night', '₹2,191 per night', '₹1,130 per night', '₹2,828 per night', '₹2,281 per night', '₹2,385 per night', '₹3,595 per night', '₹6,276 per night', '₹3,486 per night', '₹2,625 per night', '₹7,760 per night', '₹4,326 per night', '₹4,564 per night', '₹3,435 per night', '₹1,756 per night', '₹3,024 per night', '₹14,265 per night', '₹4,234 per night', '₹2,311 per night', '₹3,652 per night', '₹3,880 per night', '₹4,793 per night', '₹3,389 per night', '₹3,652 per night', '₹3,319 per night', '₹7,895 per night', '₹16,547 per night', '₹5,146 per night', '₹8,559 per night', '₹2,853 per night', '₹6,950 per night', '₹2,425 per night', '₹1,598 per night', '₹6,806 per night', '₹2,383 per night', '₹5,429 per night', '₹1,580 per night', '₹2,978 per night', '₹11,448 per night', '₹3,287 per night', '₹3,201 per night', '₹2,852 per night', '₹5,720 per night', '₹7,988 per night', '₹5,358 per night', '₹3,395 per night', '₹4,564 per night', '₹4,907 per night', '₹2,772 per night', '₹3,032 per night', '₹3,424 per night', '₹5,296 per night', '₹6,847 per night', '₹6,252 per night', '₹2,069 per night', '₹5,135 per night', '₹5,705 per night', '₹2,834 per night', '₹2,834 per night', '₹4,050 per night', '₹5,130 per night', '₹11,254 per night', '₹9,700 per night', '₹3,880 per night', '₹1,612 per night', '₹8,673 per night', '₹2,282 per night', '₹9,046 per night', '₹1,830 per night', '₹2,880 per night', '₹3,272 per night', '₹2,020 per night', '₹2,511 per night', '₹2,511 per night', '₹10,000 per night', '₹11,412 per night', '₹3,054 per night', '₹4,573 per night', '₹4,914 per night', '₹2,689 per night', '₹5,021 per night', '₹2,111 per night', '₹6,275 per night', '₹2,260 per night', '₹2,682 per night', '₹2,178 per night', '₹4,564 per night', '₹4,564 per night', '₹16,904 per night', '₹2,796 per night', '₹2,834 per night', '₹5,880 per night', '₹3,074 per night', '₹2,196 per night', '₹13,786 per night', '₹11,982 per night', '₹1,940 per night', '₹2,306 per night', '₹4,679 per night', '₹5,124 per night', '₹2,967 per night', '₹6,048 per night', '₹2,714 per night', '₹1,654 per night', '₹2,111 per night', '₹1,655 per night', '₹8,559 per night', '₹5,149 per night', '₹16,475 per night', '₹7,988 per night', '₹2,856 per night', '₹8,134 per night', '₹1,325 per night', '₹1,690 per night', '₹4,998 per night', '₹2,670 per night', '₹2,069 per night', '₹2,376 per night', '₹1,255 per night', '₹4,299 per night', '₹5,980 per night', '₹13,040 per night', '₹4,299 per night', '₹5,980 per night', '₹6,505 per night', '₹7,948 per night', '₹1,938 per night', '₹2,522 per night', '₹12,530 per night', '₹2,852 per night', '₹3,959 per night', '₹6,276 per night', '₹4,370 per night', '₹3,422 per night', '₹2,511 per night', '₹8,559 per night', '₹3,652 per night', '₹2,285 per night', '₹15,050 per night', '₹1,729 per night', '₹7,432 per night', '₹2,967 per night', '₹3,652 per night', '₹1,484 per night', '₹3,382 per night', '₹2,440 per night', '₹19,414 per night', '₹1,672 per night', '₹4,290 per night', '₹3,492 per night', '₹2,548 per night', '₹3,026 per night', '₹3,055 per night', '₹1,690 per night', '₹2,521 per night', '₹2,548 per night', '₹3,026 per night', '₹3,055 per night', '₹1,690 per night', '₹2,521 per night', '₹10,450 per night', '₹4,592 per night', '₹3,774 per night', '₹2,751 per night', '₹1,488 per night', '₹2,100 per night', '₹8,935 per night', '₹2,138 per night', '₹4,565 per night', '₹3,371 per night', '₹3,614 per night', '₹4,336 per night', '₹8,016 per night', '₹2,100 per night', '₹8,935 per night', '₹2,138 per night', '₹4,565 per night', '₹3,371 per night', '₹4,336 per night', '₹8,016 per night', '₹1,592 per night', '₹4,245 per night', '₹8,629 per night', '₹2,853 per night', '₹3,338 per night', '₹4,108 per night', '₹2,111 per night', '₹3,195 per night', '₹4,793 per night', '₹2,741 per night', '₹4,793 per night', '₹3,605 per night', '₹9,757 per night', '₹4,793 per night', '₹7,418 per night', '₹6,276 per night', '₹4,521 per night', '₹2,670 per night', '₹5,100 per night', '₹6,875 per night', '₹6,278 per night', '₹3,115 per night', '₹10,864 per night', '₹3,032 per night', '₹5,520 per night', '₹3,422 per night', '₹4,793 per night', '₹3,605 per night', '₹9,757 per night', '₹4,793 per night', '₹7,418 per night', '₹6,276 per night', '₹4,521 per night', '₹2,670 per night', '₹5,100 per night', '₹6,875 per night', '₹6,278 per night', '₹3,115 per night', '₹10,864 per night', '₹3,032 per night', '₹5,520 per night', '₹3,422 per night']\n",
      "No more pages to process.\n"
     ]
    }
   ],
   "source": [
    "import requests\n",
    "from bs4 import BeautifulSoup as bs\n",
    "\n",
    "page_count = 0  # Counter to track processed pages\n",
    "\n",
    "try:\n",
    "    while True:\n",
    "        page_count += 1  # Increment page count\n",
    "        print(f\"Pages processed: {page_count}\")  # Print progress\n",
    "\n",
    "        tp = soup.find_all('div', {'data-testid': 'listing-card-title'})\n",
    "        for i in tp:\n",
    "            name.append(i.text)\n",
    "        \n",
    "        print(name)\n",
    "\n",
    "        prices = soup.find_all('span', {\n",
    "            'class': 'a8jt5op atm_3f_idpfg4 atm_7h_hxbz6r atm_7i_ysn8ba atm_e2_t94yts atm_ks_zryt35 atm_l8_idpfg4 atm_vv_1q9ccgz atm_vy_t94yts aze35hn atm_mk_stnw88 atm_tk_idpfg4 dir dir-ltr'\n",
    "        })\n",
    "\n",
    "        for j in prices:\n",
    "            priced.append(j.text)\n",
    "        \n",
    "        print(priced)\n",
    "\n",
    "        np = soup.find('a', {'aria-label': 'Next'})\n",
    "        if not np:  # Break loop if no \"Next\" button\n",
    "            print(\"No more pages to process.\")\n",
    "            break\n",
    "\n",
    "        path = 'https://www.airbnb.co.in' + np.get('href')\n",
    "        urls = path\n",
    "        rs = requests.get(urls)\n",
    "        soup = bs(rs.text, 'lxml')  # Update soup for the next page\n",
    "\n",
    "except Exception as e:\n",
    "    print(f\"Error encountered: {e}\")\n"
   ]
  },
  {
   "cell_type": "code",
   "execution_count": null,
   "id": "77a128d5-47f5-479a-864f-cbb4324261db",
   "metadata": {},
   "outputs": [],
   "source": []
  },
  {
   "cell_type": "code",
   "execution_count": null,
   "id": "9f2de2a9-b4d9-4e77-9025-10f397479f65",
   "metadata": {},
   "outputs": [],
   "source": []
  },
  {
   "cell_type": "code",
   "execution_count": null,
   "id": "7b5b2a84-f3ef-4347-9752-95cb7cef1a71",
   "metadata": {},
   "outputs": [],
   "source": [
    "tp =soup.find_all('span',class_='a8jt5op atm_3f_idpfg4 atm_7h_hxbz6r atm_7i_ysn8ba atm_e2_t94yts atm_ks_zryt35 atm_l8_idpfg4 atm_mk_stnw88 atm_vv_1q9ccgz atm_vy_t94yts dir dir-ltr')"
   ]
  },
  {
   "cell_type": "code",
   "execution_count": null,
   "id": "e704787a-9cf1-458c-a2c2-e820260116d1",
   "metadata": {},
   "outputs": [],
   "source": [
    "a=tp[0].text"
   ]
  },
  {
   "cell_type": "code",
   "execution_count": null,
   "id": "b4a456f8-36c5-41e8-9ce0-89ab801b9a6d",
   "metadata": {},
   "outputs": [],
   "source": [
    "print(tp)"
   ]
  },
  {
   "cell_type": "code",
   "execution_count": null,
   "id": "23b58287-a27b-4e92-bd04-39acd96b73c7",
   "metadata": {},
   "outputs": [],
   "source": [
    "soup"
   ]
  },
  {
   "cell_type": "code",
   "execution_count": null,
   "id": "eb6e4a90-0bf4-44fa-9a23-812f16ab8f71",
   "metadata": {},
   "outputs": [],
   "source": []
  }
 ],
 "metadata": {
  "kernelspec": {
   "display_name": "Python 3 (ipykernel)",
   "language": "python",
   "name": "python3"
  },
  "language_info": {
   "codemirror_mode": {
    "name": "ipython",
    "version": 3
   },
   "file_extension": ".py",
   "mimetype": "text/x-python",
   "name": "python",
   "nbconvert_exporter": "python",
   "pygments_lexer": "ipython3",
   "version": "3.12.1"
  }
 },
 "nbformat": 4,
 "nbformat_minor": 5
}
