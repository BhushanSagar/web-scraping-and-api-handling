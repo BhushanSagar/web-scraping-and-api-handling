{
 "cells": [
  {
   "cell_type": "code",
   "execution_count": 1,
   "id": "1ad6663f-7f1a-491e-9838-d345ac76dcc6",
   "metadata": {},
   "outputs": [],
   "source": [
    "import requests \n",
    "from bs4 import BeautifulSoup as bs\n",
    "import pandas as pd\n",
    "import re\n",
    "import time\n",
    "import random\n",
    "\n",
    "\n"
   ]
  },
  {
   "cell_type": "code",
   "execution_count": 2,
   "id": "12acd271-34f3-4082-b38b-cc8ae10c1450",
   "metadata": {},
   "outputs": [],
   "source": [
    "url = 'https://www.iplt20.com/auction'"
   ]
  },
  {
   "cell_type": "code",
   "execution_count": 3,
   "id": "a6e20d3f-7322-4041-881a-2ad149f49f10",
   "metadata": {},
   "outputs": [],
   "source": [
    "r= requests.get(url)"
   ]
  },
  {
   "cell_type": "code",
   "execution_count": 4,
   "id": "a30fbe41-0774-4538-8557-697be27bd32d",
   "metadata": {},
   "outputs": [
    {
     "data": {
      "text/plain": [
       "<Response [200]>"
      ]
     },
     "execution_count": 4,
     "metadata": {},
     "output_type": "execute_result"
    }
   ],
   "source": [
    "r"
   ]
  },
  {
   "cell_type": "code",
   "execution_count": 82,
   "id": "48a938bc-d56d-4922-ac56-74abd9c276bf",
   "metadata": {},
   "outputs": [],
   "source": [
    "soup=bs(r.text,'lxml')"
   ]
  },
  {
   "cell_type": "code",
   "execution_count": 83,
   "id": "f67389c9-5105-4b1a-8eef-4b4cdb8b0054",
   "metadata": {},
   "outputs": [],
   "source": [
    "top_buy = soup.find_all('tbody',id = 'pointsdata')[0]"
   ]
  },
  {
   "cell_type": "code",
   "execution_count": 84,
   "id": "8957e3fd-cc4c-4629-be07-a35c47f8ed3b",
   "metadata": {},
   "outputs": [],
   "source": [
    "header_top_buy=top_buy.find_all('img')"
   ]
  },
  {
   "cell_type": "code",
   "execution_count": 85,
   "id": "4d3fea61-2420-40cf-b3c5-0157fa35d8fb",
   "metadata": {},
   "outputs": [],
   "source": [
    "image_links = [img['src'] for img in header_top_buy]"
   ]
  },
  {
   "cell_type": "code",
   "execution_count": 94,
   "id": "75a9cbc9-f44d-47b8-891c-4edeebc12ed5",
   "metadata": {},
   "outputs": [],
   "source": [
    "funds=soup.find_all('span',class_='fr-fund')"
   ]
  },
  {
   "cell_type": "code",
   "execution_count": 104,
   "id": "8a0931b0-2f1c-4e92-955b-cb981ec64549",
   "metadata": {},
   "outputs": [],
   "source": [
    "funds_remaining = [i.text for i in funds  if '₹' in i.text]"
   ]
  },
  {
   "cell_type": "code",
   "execution_count": 115,
   "id": "f4432ba1-1213-4546-b50d-048f9f058cfa",
   "metadata": {},
   "outputs": [],
   "source": [
    "overseas_players = [i.text for i in funds[1::3]]"
   ]
  },
  {
   "cell_type": "code",
   "execution_count": 160,
   "id": "6bcc2437-5956-457d-b041-e40cc3eb6293",
   "metadata": {},
   "outputs": [],
   "source": [
    "Total_players = [i.text for i in funds[2::3]]"
   ]
  },
  {
   "cell_type": "code",
   "execution_count": 161,
   "id": "6892ba25-d5ec-4b5a-90a5-1b4b2cdb54cd",
   "metadata": {},
   "outputs": [],
   "source": [
    "team_name = []\n",
    "for i in image_links:\n",
    "    names= i.split('_')\n",
    "    new_name = names[-1].split('roundbig.png')[0]\n",
    "    team_name.append(new_name)"
   ]
  },
  {
   "cell_type": "code",
   "execution_count": 162,
   "id": "d6fbc324-c83f-4206-bcb5-1a6cb6cda942",
   "metadata": {},
   "outputs": [
    {
     "data": {
      "text/plain": [
       "['CSK', 'DC', 'GT', 'KKR', 'LSG', 'MI', 'PBKS', 'RR', 'RCB', 'SRH']"
      ]
     },
     "execution_count": 162,
     "metadata": {},
     "output_type": "execute_result"
    }
   ],
   "source": [
    "team_name"
   ]
  },
  {
   "cell_type": "code",
   "execution_count": 166,
   "id": "f36668e2-df83-4c54-80a1-ff265477fb6b",
   "metadata": {},
   "outputs": [],
   "source": [
    "#create table dataframe"
   ]
  },
  {
   "cell_type": "code",
   "execution_count": 167,
   "id": "293d1e8c-1cfc-4733-9ace-7237c8ed39bc",
   "metadata": {},
   "outputs": [],
   "source": [
    "df_overview= pd.DataFrame(\n",
    "    {\"team name\":team_name,\n",
    "     \"funds remaining\":funds_remaining,\n",
    "     \"overseas players\":overseas_players,\n",
    "     \"Total players\":Total_players,\n",
    "     \"team logo\":image_links})"
   ]
  },
  {
   "cell_type": "code",
   "execution_count": 168,
   "id": "d11a1d64-0706-4665-9de7-2fe4d5f2b0f5",
   "metadata": {},
   "outputs": [
    {
     "data": {
      "text/html": [
       "<div>\n",
       "<style scoped>\n",
       "    .dataframe tbody tr th:only-of-type {\n",
       "        vertical-align: middle;\n",
       "    }\n",
       "\n",
       "    .dataframe tbody tr th {\n",
       "        vertical-align: top;\n",
       "    }\n",
       "\n",
       "    .dataframe thead th {\n",
       "        text-align: right;\n",
       "    }\n",
       "</style>\n",
       "<table border=\"1\" class=\"dataframe\">\n",
       "  <thead>\n",
       "    <tr style=\"text-align: right;\">\n",
       "      <th></th>\n",
       "      <th>team name</th>\n",
       "      <th>funds remaining</th>\n",
       "      <th>overseas players</th>\n",
       "      <th>Total players</th>\n",
       "      <th>team logo</th>\n",
       "    </tr>\n",
       "  </thead>\n",
       "  <tbody>\n",
       "    <tr>\n",
       "      <th>0</th>\n",
       "      <td>CSK</td>\n",
       "      <td>₹5,00,000</td>\n",
       "      <td>7</td>\n",
       "      <td>25</td>\n",
       "      <td>https://documents.iplt20.com/ipl/franchises/17...</td>\n",
       "    </tr>\n",
       "    <tr>\n",
       "      <th>1</th>\n",
       "      <td>DC</td>\n",
       "      <td>₹20,00,000</td>\n",
       "      <td>7</td>\n",
       "      <td>23</td>\n",
       "      <td>https://documents.iplt20.com/ipl/franchises/17...</td>\n",
       "    </tr>\n",
       "    <tr>\n",
       "      <th>2</th>\n",
       "      <td>GT</td>\n",
       "      <td>₹15,00,000</td>\n",
       "      <td>7</td>\n",
       "      <td>25</td>\n",
       "      <td>https://documents.iplt20.com/ipl/franchises/17...</td>\n",
       "    </tr>\n",
       "    <tr>\n",
       "      <th>3</th>\n",
       "      <td>KKR</td>\n",
       "      <td>₹5,00,000</td>\n",
       "      <td>8</td>\n",
       "      <td>21</td>\n",
       "      <td>https://documents.iplt20.com/ipl/franchises/17...</td>\n",
       "    </tr>\n",
       "    <tr>\n",
       "      <th>4</th>\n",
       "      <td>LSG</td>\n",
       "      <td>₹10,00,000</td>\n",
       "      <td>6</td>\n",
       "      <td>24</td>\n",
       "      <td>https://documents.iplt20.com/ipl/franchises/17...</td>\n",
       "    </tr>\n",
       "    <tr>\n",
       "      <th>5</th>\n",
       "      <td>MI</td>\n",
       "      <td>₹20,00,000</td>\n",
       "      <td>8</td>\n",
       "      <td>23</td>\n",
       "      <td>https://documents.iplt20.com/ipl/franchises/17...</td>\n",
       "    </tr>\n",
       "    <tr>\n",
       "      <th>6</th>\n",
       "      <td>PBKS</td>\n",
       "      <td>₹35,00,000</td>\n",
       "      <td>8</td>\n",
       "      <td>25</td>\n",
       "      <td>https://documents.iplt20.com/ipl/franchises/17...</td>\n",
       "    </tr>\n",
       "    <tr>\n",
       "      <th>7</th>\n",
       "      <td>RR</td>\n",
       "      <td>₹30,00,000</td>\n",
       "      <td>6</td>\n",
       "      <td>20</td>\n",
       "      <td>https://documents.iplt20.com/ipl/franchises/17...</td>\n",
       "    </tr>\n",
       "    <tr>\n",
       "      <th>8</th>\n",
       "      <td>RCB</td>\n",
       "      <td>₹75,00,000</td>\n",
       "      <td>8</td>\n",
       "      <td>22</td>\n",
       "      <td>https://documents.iplt20.com/ipl/franchises/17...</td>\n",
       "    </tr>\n",
       "    <tr>\n",
       "      <th>9</th>\n",
       "      <td>SRH</td>\n",
       "      <td>₹20,00,000</td>\n",
       "      <td>7</td>\n",
       "      <td>20</td>\n",
       "      <td>https://documents.iplt20.com/ipl/franchises/17...</td>\n",
       "    </tr>\n",
       "  </tbody>\n",
       "</table>\n",
       "</div>"
      ],
      "text/plain": [
       "  team name funds remaining overseas players Total players  \\\n",
       "0       CSK       ₹5,00,000                7            25   \n",
       "1        DC      ₹20,00,000                7            23   \n",
       "2        GT      ₹15,00,000                7            25   \n",
       "3       KKR       ₹5,00,000                8            21   \n",
       "4       LSG      ₹10,00,000                6            24   \n",
       "5        MI      ₹20,00,000                8            23   \n",
       "6      PBKS      ₹35,00,000                8            25   \n",
       "7        RR      ₹30,00,000                6            20   \n",
       "8       RCB      ₹75,00,000                8            22   \n",
       "9       SRH      ₹20,00,000                7            20   \n",
       "\n",
       "                                           team logo  \n",
       "0  https://documents.iplt20.com/ipl/franchises/17...  \n",
       "1  https://documents.iplt20.com/ipl/franchises/17...  \n",
       "2  https://documents.iplt20.com/ipl/franchises/17...  \n",
       "3  https://documents.iplt20.com/ipl/franchises/17...  \n",
       "4  https://documents.iplt20.com/ipl/franchises/17...  \n",
       "5  https://documents.iplt20.com/ipl/franchises/17...  \n",
       "6  https://documents.iplt20.com/ipl/franchises/17...  \n",
       "7  https://documents.iplt20.com/ipl/franchises/17...  \n",
       "8  https://documents.iplt20.com/ipl/franchises/17...  \n",
       "9  https://documents.iplt20.com/ipl/franchises/17...  "
      ]
     },
     "execution_count": 168,
     "metadata": {},
     "output_type": "execute_result"
    }
   ],
   "source": [
    "df_overview"
   ]
  },
  {
   "cell_type": "code",
   "execution_count": 169,
   "id": "9edf1038-9f8d-4624-9305-3c1e9c1044cd",
   "metadata": {},
   "outputs": [],
   "source": [
    "df_overview.index.name='id'"
   ]
  },
  {
   "cell_type": "code",
   "execution_count": 173,
   "id": "a9e195f4-c0c9-434d-a4a4-efe46aeb6698",
   "metadata": {},
   "outputs": [],
   "source": [
    "df_overview.to_csv(\"C:\\\\Users\\\\lenovo\\\\Desktop\\\\webscraping\\\\project\\\\data\\\\overview.csv\")"
   ]
  },
  {
   "cell_type": "code",
   "execution_count": null,
   "id": "48af5e09-dd78-4892-b750-35481443bcb5",
   "metadata": {},
   "outputs": [],
   "source": []
  },
  {
   "cell_type": "code",
   "execution_count": 174,
   "id": "f0651ece-ed16-4366-b5cd-5bc0d2239093",
   "metadata": {},
   "outputs": [],
   "source": [
    "#2nd table "
   ]
  },
  {
   "cell_type": "code",
   "execution_count": 245,
   "id": "4bf69a12-7f06-4b56-b62d-0e168d3cc5f0",
   "metadata": {},
   "outputs": [],
   "source": [
    "top_buyss = soup.find_all('tbody',id = 'pointsdata')[1]"
   ]
  },
  {
   "cell_type": "code",
   "execution_count": 241,
   "id": "39c985e0-3311-4679-b3a3-6f2db8e31e19",
   "metadata": {},
   "outputs": [],
   "source": [
    "pointsdata=top_buyss.find_all('td')"
   ]
  },
  {
   "cell_type": "code",
   "execution_count": 242,
   "id": "41cd5542-36e5-4202-9007-bdd4326607e2",
   "metadata": {},
   "outputs": [],
   "source": [
    "sr_no_1 = [i.text for i in pointsdata]"
   ]
  },
  {
   "cell_type": "code",
   "execution_count": 243,
   "id": "330f55a1-f69d-4376-8f34-17328cedf06d",
   "metadata": {},
   "outputs": [],
   "source": [
    "image_team=soup.find_all('img')"
   ]
  },
  {
   "cell_type": "code",
   "execution_count": 208,
   "id": "f336f0db-85c5-48d2-92d2-68d76ad7a5ac",
   "metadata": {},
   "outputs": [],
   "source": [
    "sr_no = sr_no_1[0::6]\n",
    "player = sr_no_1[1::6]\n",
    "base_price = sr_no_1[2::6]\n",
    "winning_bid = sr_no_1[3::6]"
   ]
  },
  {
   "cell_type": "code",
   "execution_count": 251,
   "id": "6a3782eb-63f8-4de1-a7a5-0f45fdaaf196",
   "metadata": {},
   "outputs": [],
   "source": [
    "df_pointsdata= pd.DataFrame(\n",
    "    {\"sr no\":sr_no,\n",
    "     \"player\":player,\n",
    "     \"base price\":base_price,\n",
    "     \"winning bid\":winning_bid})"
   ]
  },
  {
   "cell_type": "code",
   "execution_count": 252,
   "id": "2fe68e6b-998e-46b6-ad69-7305fc0d0a8a",
   "metadata": {},
   "outputs": [],
   "source": [
    "df_pointsdata.to_csv('C:\\\\Users\\\\lenovo\\\\Desktop\\\\webscraping\\\\project\\\\data\\\\Top_buys.csv',index=False)"
   ]
  },
  {
   "cell_type": "code",
   "execution_count": null,
   "id": "12bf9202-5674-4862-800a-c7aa86c5ef38",
   "metadata": {},
   "outputs": [],
   "source": []
  },
  {
   "cell_type": "code",
   "execution_count": 253,
   "id": "104b9f1b-da0a-4dd2-843b-3fea420ac8a4",
   "metadata": {},
   "outputs": [],
   "source": [
    "#3rd table "
   ]
  },
  {
   "cell_type": "code",
   "execution_count": 360,
   "id": "a0c3a400-10c2-46d7-9bb7-f2bf101f5035",
   "metadata": {},
   "outputs": [],
   "source": [
    "table_3 = soup.find_all('div',class_ = 'ih-points-table-sec')"
   ]
  },
  {
   "cell_type": "code",
   "execution_count": 361,
   "id": "784ea384-5e71-4ca1-9db9-ae99b53b2bc1",
   "metadata": {},
   "outputs": [],
   "source": [
    "table_column = table_3[1].find_all('th')"
   ]
  },
  {
   "cell_type": "code",
   "execution_count": 366,
   "id": "07787858-5c72-4676-8e4f-60d707a51a9d",
   "metadata": {},
   "outputs": [],
   "source": [
    "cols =[i.text for i in table_column]+[\"Team Name\"]\n",
    "df_cols=pd.DataFrame(columns=cols)"
   ]
  },
  {
   "cell_type": "code",
   "execution_count": 367,
   "id": "d084f262-fe3a-456d-8176-b086e0bf8935",
   "metadata": {},
   "outputs": [
    {
     "data": {
      "text/html": [
       "<div>\n",
       "<style scoped>\n",
       "    .dataframe tbody tr th:only-of-type {\n",
       "        vertical-align: middle;\n",
       "    }\n",
       "\n",
       "    .dataframe tbody tr th {\n",
       "        vertical-align: top;\n",
       "    }\n",
       "\n",
       "    .dataframe thead th {\n",
       "        text-align: right;\n",
       "    }\n",
       "</style>\n",
       "<table border=\"1\" class=\"dataframe\">\n",
       "  <thead>\n",
       "    <tr style=\"text-align: right;\">\n",
       "      <th></th>\n",
       "      <th>Sr. No.</th>\n",
       "      <th>Player</th>\n",
       "      <th>Base Price</th>\n",
       "      <th>Winning Bid</th>\n",
       "      <th>Capped/Uncapped</th>\n",
       "      <th></th>\n",
       "      <th>Team Name</th>\n",
       "    </tr>\n",
       "  </thead>\n",
       "  <tbody>\n",
       "  </tbody>\n",
       "</table>\n",
       "</div>"
      ],
      "text/plain": [
       "Empty DataFrame\n",
       "Columns: [Sr. No., Player, Base Price, Winning Bid, Capped/Uncapped, , Team Name]\n",
       "Index: []"
      ]
     },
     "execution_count": 367,
     "metadata": {},
     "output_type": "execute_result"
    }
   ],
   "source": [
    "#df_cols[\"team name\"]=''\n",
    "df_cols"
   ]
  },
  {
   "cell_type": "code",
   "execution_count": 371,
   "id": "620e1675-14ac-4ac7-9216-8a3c649270e2",
   "metadata": {},
   "outputs": [],
   "source": [
    "for i in range(1,11):\n",
    "         teams= table_3[i].find_all('h2')\n",
    "         team_name=   [i.text for i in teams]\n",
    "\n",
    "    \n",
    "         data=table_3[i].find_all('tr')\n",
    "         for i in data[1:]:\n",
    "             row=i.find_all('td')\n",
    "             e_row=[t.text for t in row]+ [team_name]\n",
    "             lens=len(df_cols)\n",
    "             df_cols.loc[lens]=e_row\n",
    "           #  df_cols[\"team name\"]=team_name\n",
    "         #print(team_name)"
   ]
  },
  {
   "cell_type": "code",
   "execution_count": 372,
   "id": "3f27b416-83c2-4b0e-b7ba-e305d17892eb",
   "metadata": {},
   "outputs": [
    {
     "data": {
      "text/html": [
       "<div>\n",
       "<style scoped>\n",
       "    .dataframe tbody tr th:only-of-type {\n",
       "        vertical-align: middle;\n",
       "    }\n",
       "\n",
       "    .dataframe tbody tr th {\n",
       "        vertical-align: top;\n",
       "    }\n",
       "\n",
       "    .dataframe thead th {\n",
       "        text-align: right;\n",
       "    }\n",
       "</style>\n",
       "<table border=\"1\" class=\"dataframe\">\n",
       "  <thead>\n",
       "    <tr style=\"text-align: right;\">\n",
       "      <th></th>\n",
       "      <th>Sr. No.</th>\n",
       "      <th>Player</th>\n",
       "      <th>Base Price</th>\n",
       "      <th>Winning Bid</th>\n",
       "      <th>Capped/Uncapped</th>\n",
       "      <th></th>\n",
       "      <th>Team Name</th>\n",
       "    </tr>\n",
       "  </thead>\n",
       "  <tbody>\n",
       "    <tr>\n",
       "      <th>0</th>\n",
       "      <td>1</td>\n",
       "      <td>Noor Ahmad</td>\n",
       "      <td>2,00,00,000</td>\n",
       "      <td>10,00,00,000</td>\n",
       "      <td>Capped</td>\n",
       "      <td></td>\n",
       "      <td>Chennai Super Kings</td>\n",
       "    </tr>\n",
       "    <tr>\n",
       "      <th>1</th>\n",
       "      <td>2</td>\n",
       "      <td>Ravichandaran Ashwin</td>\n",
       "      <td>2,00,00,000</td>\n",
       "      <td>9,75,00,000</td>\n",
       "      <td>Capped</td>\n",
       "      <td></td>\n",
       "      <td>Chennai Super Kings</td>\n",
       "    </tr>\n",
       "    <tr>\n",
       "      <th>2</th>\n",
       "      <td>3</td>\n",
       "      <td>Devon Conway</td>\n",
       "      <td>2,00,00,000</td>\n",
       "      <td>6,25,00,000</td>\n",
       "      <td>Capped</td>\n",
       "      <td></td>\n",
       "      <td>Chennai Super Kings</td>\n",
       "    </tr>\n",
       "    <tr>\n",
       "      <th>3</th>\n",
       "      <td>4</td>\n",
       "      <td>Syed Khaleel Ahmed</td>\n",
       "      <td>2,00,00,000</td>\n",
       "      <td>4,80,00,000</td>\n",
       "      <td>Capped</td>\n",
       "      <td></td>\n",
       "      <td>Chennai Super Kings</td>\n",
       "    </tr>\n",
       "    <tr>\n",
       "      <th>4</th>\n",
       "      <td>5</td>\n",
       "      <td>Rachin Ravindra</td>\n",
       "      <td>1,50,00,000</td>\n",
       "      <td>4,00,00,000</td>\n",
       "      <td>Capped</td>\n",
       "      <td></td>\n",
       "      <td>Chennai Super Kings</td>\n",
       "    </tr>\n",
       "    <tr>\n",
       "      <th>...</th>\n",
       "      <td>...</td>\n",
       "      <td>...</td>\n",
       "      <td>...</td>\n",
       "      <td>...</td>\n",
       "      <td>...</td>\n",
       "      <td>...</td>\n",
       "      <td>...</td>\n",
       "    </tr>\n",
       "    <tr>\n",
       "      <th>541</th>\n",
       "      <td>11</td>\n",
       "      <td>Kamindu Mendis</td>\n",
       "      <td>75,00,000</td>\n",
       "      <td>75,00,000</td>\n",
       "      <td>Capped</td>\n",
       "      <td></td>\n",
       "      <td>[ Sunrisers Hyderabad]</td>\n",
       "    </tr>\n",
       "    <tr>\n",
       "      <th>542</th>\n",
       "      <td>12</td>\n",
       "      <td>Zeeshan Ansari</td>\n",
       "      <td>30,00,000</td>\n",
       "      <td>40,00,000</td>\n",
       "      <td>Uncapped</td>\n",
       "      <td></td>\n",
       "      <td>[ Sunrisers Hyderabad]</td>\n",
       "    </tr>\n",
       "    <tr>\n",
       "      <th>543</th>\n",
       "      <td>13</td>\n",
       "      <td>Sachin Baby</td>\n",
       "      <td>30,00,000</td>\n",
       "      <td>30,00,000</td>\n",
       "      <td>Uncapped</td>\n",
       "      <td></td>\n",
       "      <td>[ Sunrisers Hyderabad]</td>\n",
       "    </tr>\n",
       "    <tr>\n",
       "      <th>544</th>\n",
       "      <td>14</td>\n",
       "      <td>Aniket Verma</td>\n",
       "      <td>30,00,000</td>\n",
       "      <td>30,00,000</td>\n",
       "      <td>Uncapped</td>\n",
       "      <td></td>\n",
       "      <td>[ Sunrisers Hyderabad]</td>\n",
       "    </tr>\n",
       "    <tr>\n",
       "      <th>545</th>\n",
       "      <td>15</td>\n",
       "      <td>Atharva Taide</td>\n",
       "      <td>30,00,000</td>\n",
       "      <td>30,00,000</td>\n",
       "      <td>Uncapped</td>\n",
       "      <td></td>\n",
       "      <td>[ Sunrisers Hyderabad]</td>\n",
       "    </tr>\n",
       "  </tbody>\n",
       "</table>\n",
       "<p>546 rows × 7 columns</p>\n",
       "</div>"
      ],
      "text/plain": [
       "    Sr. No.                Player    Base Price    Winning Bid  \\\n",
       "0        1           Noor Ahmad    2,00,00,000   10,00,00,000    \n",
       "1        2   Ravichandaran Ashwin  2,00,00,000    9,75,00,000    \n",
       "2        3         Devon Conway    2,00,00,000    6,25,00,000    \n",
       "3        4     Syed Khaleel Ahmed  2,00,00,000    4,80,00,000    \n",
       "4        5      Rachin Ravindra    1,50,00,000    4,00,00,000    \n",
       "..      ...                   ...           ...            ...   \n",
       "541     11       Kamindu Mendis      75,00,000      75,00,000    \n",
       "542     12         Zeeshan Ansari    30,00,000      40,00,000    \n",
       "543     13            Sachin Baby    30,00,000      30,00,000    \n",
       "544     14           Aniket Verma    30,00,000      30,00,000    \n",
       "545     15          Atharva Taide    30,00,000      30,00,000    \n",
       "\n",
       "    Capped/Uncapped                    Team Name  \n",
       "0            Capped          Chennai Super Kings  \n",
       "1            Capped          Chennai Super Kings  \n",
       "2            Capped          Chennai Super Kings  \n",
       "3            Capped          Chennai Super Kings  \n",
       "4            Capped          Chennai Super Kings  \n",
       "..              ...  ...                     ...  \n",
       "541          Capped       [ Sunrisers Hyderabad]  \n",
       "542        Uncapped       [ Sunrisers Hyderabad]  \n",
       "543        Uncapped       [ Sunrisers Hyderabad]  \n",
       "544        Uncapped       [ Sunrisers Hyderabad]  \n",
       "545        Uncapped       [ Sunrisers Hyderabad]  \n",
       "\n",
       "[546 rows x 7 columns]"
      ]
     },
     "execution_count": 372,
     "metadata": {},
     "output_type": "execute_result"
    }
   ],
   "source": [
    "df_cols"
   ]
  },
  {
   "cell_type": "code",
   "execution_count": 373,
   "id": "4327fb32-28a5-4eff-844c-f842721dfa0a",
   "metadata": {},
   "outputs": [],
   "source": [
    "df_cols.to_csv('C:\\\\Users\\\\lenovo\\\\Desktop\\\\webscraping\\\\project\\\\data\\\\Sold_players.csv',index=False)"
   ]
  },
  {
   "cell_type": "code",
   "execution_count": 374,
   "id": "89bd24f2-a2be-4b4b-b62d-e0e6dcafc00c",
   "metadata": {},
   "outputs": [],
   "source": [
    "#last table "
   ]
  },
  {
   "cell_type": "code",
   "execution_count": 469,
   "id": "5da07c09-a4e3-4b70-a678-80e9a4576ecd",
   "metadata": {},
   "outputs": [],
   "source": [
    "unsold_players= soup.find_all('table',id='t5')"
   ]
  },
  {
   "cell_type": "code",
   "execution_count": 470,
   "id": "2aabd7e8-c599-4b43-9db9-d0e6624d5016",
   "metadata": {},
   "outputs": [],
   "source": [
    "first_table = unsold_players[0]  # Select the first table\n",
    "names_last=first_table.find_all('th')  # Now search for 'th' inside this table\n",
    "column_name_last=[i.text for i in names_last]"
   ]
  },
  {
   "cell_type": "code",
   "execution_count": 471,
   "id": "67d35922-7373-4794-881d-966330cce70a",
   "metadata": {},
   "outputs": [],
   "source": [
    "df_last_table=pd.DataFrame(columns=column_name_last)"
   ]
  },
  {
   "cell_type": "code",
   "execution_count": 472,
   "id": "d58af8f3-dd20-4926-bff0-6d16f9137ca5",
   "metadata": {},
   "outputs": [],
   "source": [
    "df_last_table.drop('Sr. No.', axis=1, inplace=True)"
   ]
  },
  {
   "cell_type": "code",
   "execution_count": 474,
   "id": "a3b023fb-02ce-4cfe-a690-495f7517052a",
   "metadata": {},
   "outputs": [],
   "source": [
    "for i in unsold_players:\n",
    "    row=i.find_all('tr')\n",
    "    for j in row[1:]:\n",
    "        new_row=j.find_all('td')\n",
    "        datas = [k.text for k in new_row]\n",
    "        lens=len(df_last_table)\n",
    "        df_last_table.loc[lens] = datas\n",
    "        "
   ]
  },
  {
   "cell_type": "code",
   "execution_count": 475,
   "id": "7afd0d41-d9fe-4ac7-ac0e-defbda5fd1d2",
   "metadata": {},
   "outputs": [],
   "source": [
    "df_last_table.index.name='id'"
   ]
  },
  {
   "cell_type": "code",
   "execution_count": 476,
   "id": "2b23a216-7d4d-4d10-91a0-9fa9603badad",
   "metadata": {},
   "outputs": [],
   "source": [
    "df_last_table.to_csv('C:\\\\Users\\\\lenovo\\\\Desktop\\\\webscraping\\\\project\\\\data\\\\un_Sold_players.csv')"
   ]
  },
  {
   "cell_type": "code",
   "execution_count": null,
   "id": "06e11b4c-261a-4fe9-b9e8-1df4130c1e79",
   "metadata": {},
   "outputs": [],
   "source": []
  }
 ],
 "metadata": {
  "kernelspec": {
   "display_name": "Python 3 (ipykernel)",
   "language": "python",
   "name": "python3"
  },
  "language_info": {
   "codemirror_mode": {
    "name": "ipython",
    "version": 3
   },
   "file_extension": ".py",
   "mimetype": "text/x-python",
   "name": "python",
   "nbconvert_exporter": "python",
   "pygments_lexer": "ipython3",
   "version": "3.12.1"
  }
 },
 "nbformat": 4,
 "nbformat_minor": 5
}
