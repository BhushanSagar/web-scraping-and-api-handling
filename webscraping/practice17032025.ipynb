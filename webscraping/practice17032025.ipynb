{
 "cells": [
  {
   "cell_type": "code",
   "execution_count": 1,
   "id": "bbad8de7-b327-4354-9852-7ea2a13d1880",
   "metadata": {},
   "outputs": [],
   "source": [
    "#scrap mutipage website"
   ]
  },
  {
   "cell_type": "code",
   "execution_count": 2,
   "id": "db896f12-a06c-44fa-9bf1-bcc2046158f0",
   "metadata": {},
   "outputs": [],
   "source": [
    "import requests \n",
    "from bs4 import BeautifulSoup as bs\n",
    "import pandas as pd\n",
    "import re"
   ]
  },
  {
   "cell_type": "code",
   "execution_count": 3,
   "id": "c20c16b0-0626-4a86-9a02-4df54482cf4e",
   "metadata": {},
   "outputs": [],
   "source": [
    "url ='https://www.flipkart.com/search?q=mobile+above+30000&sid=tyy%2C4io&as=on&as-show=on&otracker=AS_QueryStore_OrganicAutoSuggest_1_10_na_na_na&otracker1=AS_QueryStore_OrganicAutoSuggest_1_10_na_na_na&as-pos=1&as-type=RECENT&suggestionId=mobile+above+30000%7CMobiles&requestId=d4a30dc1-27ba-4628-baa9-1d6bce93c951&as-searchtext=mobile%20above%2030000'"
   ]
  },
  {
   "cell_type": "code",
   "execution_count": 4,
   "id": "0572dc70-8a0b-49ec-a61f-2d41f36f68ba",
   "metadata": {},
   "outputs": [],
   "source": [
    "r=requests.get(url)"
   ]
  },
  {
   "cell_type": "code",
   "execution_count": 5,
   "id": "5895c875-6702-47b3-a78e-cc32d5717714",
   "metadata": {},
   "outputs": [
    {
     "data": {
      "text/plain": [
       "<Response [200]>"
      ]
     },
     "execution_count": 5,
     "metadata": {},
     "output_type": "execute_result"
    }
   ],
   "source": [
    "r"
   ]
  },
  {
   "cell_type": "code",
   "execution_count": 6,
   "id": "328c23f8-a328-46cc-9228-92b380a821fc",
   "metadata": {},
   "outputs": [],
   "source": [
    "soup = bs(r.text,'lxml')"
   ]
  },
  {
   "cell_type": "code",
   "execution_count": null,
   "id": "25aa5525-7d45-4697-a50c-10afe9f86c64",
   "metadata": {},
   "outputs": [],
   "source": [
    "\n"
   ]
  },
  {
   "cell_type": "code",
   "execution_count": null,
   "id": "e5b7f05b-6973-40ba-8ac7-f609d13795a2",
   "metadata": {},
   "outputs": [],
   "source": []
  },
  {
   "cell_type": "code",
   "execution_count": null,
   "id": "8b039dc8-0f9c-4575-bf20-f295c3fb0cf0",
   "metadata": {},
   "outputs": [],
   "source": [
    "#now we have take data of 1 page but we want from every page"
   ]
  },
  {
   "cell_type": "code",
   "execution_count": 88,
   "id": "4fbbb87c-86e7-4e8a-a94a-19c8fe782a12",
   "metadata": {},
   "outputs": [],
   "source": [
    "phones=[]\n",
    "prices=[]\n",
    "desciptions=[]\n",
    "page_no=[]"
   ]
  },
  {
   "cell_type": "code",
   "execution_count": 89,
   "id": "31cc81e6-077a-4145-a924-8530c9bffaf7",
   "metadata": {},
   "outputs": [],
   "source": [
    "for i in range(1,6):\n",
    "    url ='https://www.flipkart.com/search?q=mobile+above+30000&sid=tyy%2C4io&as=on&as-show=on&otracker=AS_QueryStore_OrganicAutoSuggest_1_10_na_na_na&otracker1=AS_QueryStore_OrganicAutoSuggest_1_10_na_na_na&as-pos=1&as-type=RECENT&suggestionId=mobile+above+30000%7CMobiles&requestId=d4a30dc1-27ba-4628-baa9-1d6bce93c951&as-searchtext=mobile+above+30000&page='+str(i)\n",
    "    r=requests.get(url)\n",
    "    soup = bs(r.text,'lxml')\n",
    "\n",
    "    phone=soup.find_all( 'div',{'class':'KzDlHZ'})\n",
    "    mobile_name= [i.text for i in phone]\n",
    "    phones.extend(mobile_name)\n",
    "    price=soup.find_all( 'div',{'class':'Nx9bqj _4b5DiR'})\n",
    "    mobile_price=[i.text for i in price]\n",
    "    prices.extend(mobile_price)\n",
    "    desciption=soup.find_all( 'div',{'class':'_6NESgJ'})\n",
    "    mobile_desciption=[i.text for i in desciption]\n",
    "    desciptions.extend(mobile_desciption)\n",
    "    page_no.append(i)\n",
    "    np=\"/search?q=mobile+above+30000&sid=tyy%2C4io&as=on&as-show=on&otracker=AS_QueryStore_OrganicAutoSuggest_1_10_na_na_na&otracker1=AS_QueryStore_OrganicAutoSuggest_1_10_na_na_na&as-pos=1&as-type=RECENT&suggestionId=mobile+above+30000%7CMobiles&requestId=d4a30dc1-27ba-4628-baa9-1d6bce93c951&as-searchtext=mobile+above+30000&page=\"+str(i)\n",
    "    next='https://www.flipkart.com/'+np\n",
    "\n"
   ]
  },
  {
   "cell_type": "code",
   "execution_count": null,
   "id": "864d2d90-3b6c-47d8-b166-5ebe4da2eb23",
   "metadata": {},
   "outputs": [],
   "source": []
  },
  {
   "cell_type": "code",
   "execution_count": 93,
   "id": "1c623829-655d-423c-8177-a4dda16cfb54",
   "metadata": {},
   "outputs": [],
   "source": [
    "df=pd.DataFrame({'Phone name':phones,\n",
    "'Phone prince':prices,\n",
    "'Phone desciption':desciptions})"
   ]
  },
  {
   "cell_type": "code",
   "execution_count": 94,
   "id": "bb72a40e-37ca-4c57-92ce-74a86f44b548",
   "metadata": {},
   "outputs": [],
   "source": [
    "df.index.name ='id'"
   ]
  },
  {
   "cell_type": "code",
   "execution_count": 95,
   "id": "ff91e9fe-db2d-4d4e-bdf5-ddf807a3003d",
   "metadata": {},
   "outputs": [],
   "source": [
    "df.to_csv('flipkart.csv')"
   ]
  },
  {
   "cell_type": "code",
   "execution_count": null,
   "id": "f8a42c69-0deb-4bd1-a36d-3b6add7703fb",
   "metadata": {},
   "outputs": [],
   "source": []
  }
 ],
 "metadata": {
  "kernelspec": {
   "display_name": "Python 3 (ipykernel)",
   "language": "python",
   "name": "python3"
  },
  "language_info": {
   "codemirror_mode": {
    "name": "ipython",
    "version": 3
   },
   "file_extension": ".py",
   "mimetype": "text/x-python",
   "name": "python",
   "nbconvert_exporter": "python",
   "pygments_lexer": "ipython3",
   "version": "3.12.1"
  }
 },
 "nbformat": 4,
 "nbformat_minor": 5
}
